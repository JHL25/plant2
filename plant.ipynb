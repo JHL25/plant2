{
 "cells": [
  {
   "cell_type": "code",
   "execution_count": 30,
   "metadata": {},
   "outputs": [
    {
     "name": "stdout",
     "output_type": "stream",
     "text": [
      "0  :  ./data3/train/0\\Tomato_healthy (1).JPG\n",
      "0  :  ./data3/train/0\\Tomato_healthy (1269).JPG\n",
      "0  :  ./data3/train/0\\Tomato_healthy (1539).JPG\n",
      "0  :  ./data3/train/0\\Tomato_healthy (377).JPG\n",
      "0  :  ./data3/train/0\\Tomato_healthy (647).JPG\n",
      "0  :  ./data3/train/0\\Tomato_healthy (917).JPG\n",
      "1  :  ./data3/train/1\\Tomato_Septoria (1).JPG\n",
      "1  :  ./data3/train/1\\Tomato_Septoria (397).JPG\n",
      "1  :  ./data3/train/1\\Tomato_Septoria (667).JPG\n",
      "1  :  ./data3/train/1\\Tomato_Septoria (937).JPG\n",
      "1  :  ./data3/train/1\\Tomato_Spider (1206).JPG\n",
      "1  :  ./data3/train/1\\Tomato_Spider (1477).JPG\n",
      "1  :  ./data3/train/1\\Tomato_Spider (1747).JPG\n",
      "1  :  ./data3/train/1\\Tomato_Spider (2016).JPG\n",
      "1  :  ./data3/train/1\\Tomato_Spider (2287).JPG\n",
      "1  :  ./data3/train/1\\Tomato_Spider (2557).JPG\n"
     ]
    },
    {
     "name": "stderr",
     "output_type": "stream",
     "text": [
      "C:\\Users\\Administrator\\anaconda3\\envs\\keras\\lib\\site-packages\\numpy\\core\\_asarray.py:136: VisibleDeprecationWarning: Creating an ndarray from ragged nested sequences (which is a list-or-tuple of lists-or-tuples-or ndarrays with different lengths or shapes) is deprecated. If you meant to do this, you must specify 'dtype=object' when creating the ndarray\n",
      "  return array(a, dtype, copy=False, order=order, subok=True)\n"
     ]
    }
   ],
   "source": [
    "from PIL import Image\n",
    "import os, glob, sys, numpy as np\n",
    "from sklearn.model_selection import train_test_split\n",
    "from keras.utils import np_utils\n",
    "\n",
    "img_dir = './data3/train'\n",
    "categories = ['0', '1']\n",
    "np_classes = len(categories)\n",
    "\n",
    "image_w = 128\n",
    "image_h = 128\n",
    "\n",
    "\n",
    "pixel = image_h * image_w * 3\n",
    "\n",
    "X = []\n",
    "y = []\n",
    "\n",
    "for idx, cat in enumerate(categories):\n",
    "    img_dir_detail = img_dir + \"/\" + cat\n",
    "    files = glob.glob(img_dir_detail+\"/*.jpg\")\n",
    "\n",
    "\n",
    "    for i, f in enumerate(files):\n",
    "        try:\n",
    "            img = Image.open(f)\n",
    "            img = img.convert(\"RGB\")\n",
    "            img = img.resize((image_w, image_h))\n",
    "            data = np.asarray(img)\n",
    "            #Y는 0 아니면 1이니까 idx값으로 넣는다.\n",
    "            X.append(data)\n",
    "            y.append(idx)\n",
    "            if i % 300 == 0:\n",
    "                print(cat, \" : \", f)\n",
    "        except:\n",
    "            print(cat, str(i)+\" 번째에서 에러 \")\n",
    "X = np.array(X)\n",
    "Y = np.array(y)\n",
    "\n",
    "\n",
    "X_train, X_test, Y_train, Y_test = train_test_split(X, Y, test_size=0.1)\n",
    "\n",
    "xy = (X_train, X_test, Y_train, Y_test)\n",
    "np.save(\"./image_data.npy\", xy)"
   ]
  },
  {
   "cell_type": "code",
   "execution_count": 12,
   "metadata": {},
   "outputs": [
    {
     "name": "stdout",
     "output_type": "stream",
     "text": [
      "(3965, 128, 128, 3)\n",
      "3965\n",
      "[1443 2522]\n",
      "[148 293]\n"
     ]
    }
   ],
   "source": [
    "from keras.models import Sequential\n",
    "from keras.layers import Conv2D, MaxPooling2D, Dense, Flatten, Dropout\n",
    "from keras.callbacks import EarlyStopping, ModelCheckpoint\n",
    "import matplotlib.pyplot as plt\n",
    "import tensorflow.python.keras.backend as K\n",
    "\n",
    "X_train, X_test, y_train, y_test = np.load('./numpy_data/image_data.npy', allow_pickle=True)\n",
    "print(X_train.shape)\n",
    "print(X_train.shape[0])\n",
    "print(X_train.shape[1:])\n",
    "print(np.bincount(y_train))\n",
    "print(np.bincount(y_test))"
   ]
  },
  {
   "cell_type": "code",
   "execution_count": 13,
   "metadata": {},
   "outputs": [],
   "source": [
    "image_w = 128\n",
    "image_h = 128\n",
    "X_train = X_train.astype('float32') / 255\n",
    "X_test = X_test.astype('float32') / 255\n",
    "\n",
    "import tensorflow.compat.v1 as tf\n",
    "\n",
    "with tf.device('/device:GPU:0'):\n",
    "    model = Sequential()\n",
    "    model.add(Conv2D(32, (3,3), padding=\"same\", input_shape=X_train.shape[1:], activation=\"relu\"))\n",
    "    model.add(MaxPooling2D(pool_size=(2,2)))\n",
    "    model.add(Conv2D(32, (3,3), padding=\"same\", activation=\"relu\"))\n",
    "    model.add(MaxPooling2D(pool_size=(2,2)))\n",
    "\n",
    "    model.add(Conv2D(64, (3,3), padding=\"same\", activation=\"relu\"))\n",
    "    model.add(MaxPooling2D(pool_size=(2,2)))\n",
    "    model.add(Dropout(0.25))\n",
    "\n",
    "    model.add(Conv2D(64, (3,3), padding=\"same\", activation=\"relu\"))\n",
    "    model.add(MaxPooling2D(pool_size=(2,2)))\n",
    "    model.add(Dropout(0.25))\n",
    "\n",
    "    model.add(Flatten())\n",
    "    model.add(Dense(256, activation=\"relu\"))\n",
    "    model.add(Dropout(0.5))\n",
    "    model.add(Dense(1, activation=\"sigmoid\"))\n",
    "    \n",
    "    model.compile(loss='binary_crossentropy', optimizer='adam', metrics=['accuracy'])\n",
    "    model_dir = './model'\n",
    "    \n",
    "    if not os.path.exists(model_dir):\n",
    "        os.mkdir(model_dir)\n",
    "    model_path = model_dir + \"/plant.model\"\n",
    "    \n",
    "    checkpoint = ModelCheckpoint(filepath=model_path, monitor='val_loss', verbose=1, save_best_only=True)\n",
    "    early_stopping = EarlyStopping(monitor='val_loss', patience=7)\n"
   ]
  },
  {
   "cell_type": "code",
   "execution_count": 14,
   "metadata": {
    "scrolled": false
   },
   "outputs": [
    {
     "name": "stdout",
     "output_type": "stream",
     "text": [
      "Model: \"sequential_2\"\n",
      "_________________________________________________________________\n",
      "Layer (type)                 Output Shape              Param #   \n",
      "=================================================================\n",
      "conv2d_8 (Conv2D)            (None, 128, 128, 32)      896       \n",
      "_________________________________________________________________\n",
      "max_pooling2d_8 (MaxPooling2 (None, 64, 64, 32)        0         \n",
      "_________________________________________________________________\n",
      "conv2d_9 (Conv2D)            (None, 64, 64, 32)        9248      \n",
      "_________________________________________________________________\n",
      "max_pooling2d_9 (MaxPooling2 (None, 32, 32, 32)        0         \n",
      "_________________________________________________________________\n",
      "conv2d_10 (Conv2D)           (None, 32, 32, 64)        18496     \n",
      "_________________________________________________________________\n",
      "max_pooling2d_10 (MaxPooling (None, 16, 16, 64)        0         \n",
      "_________________________________________________________________\n",
      "dropout_6 (Dropout)          (None, 16, 16, 64)        0         \n",
      "_________________________________________________________________\n",
      "conv2d_11 (Conv2D)           (None, 16, 16, 64)        36928     \n",
      "_________________________________________________________________\n",
      "max_pooling2d_11 (MaxPooling (None, 8, 8, 64)          0         \n",
      "_________________________________________________________________\n",
      "dropout_7 (Dropout)          (None, 8, 8, 64)          0         \n",
      "_________________________________________________________________\n",
      "flatten_2 (Flatten)          (None, 4096)              0         \n",
      "_________________________________________________________________\n",
      "dense_4 (Dense)              (None, 256)               1048832   \n",
      "_________________________________________________________________\n",
      "dropout_8 (Dropout)          (None, 256)               0         \n",
      "_________________________________________________________________\n",
      "dense_5 (Dense)              (None, 1)                 257       \n",
      "=================================================================\n",
      "Total params: 1,114,657\n",
      "Trainable params: 1,114,657\n",
      "Non-trainable params: 0\n",
      "_________________________________________________________________\n"
     ]
    }
   ],
   "source": [
    "model.summary()"
   ]
  },
  {
   "cell_type": "code",
   "execution_count": 15,
   "metadata": {
    "scrolled": true
   },
   "outputs": [
    {
     "name": "stdout",
     "output_type": "stream",
     "text": [
      "Epoch 1/100\n",
      "53/53 [==============================] - 61s 1s/step - loss: 0.6539 - accuracy: 0.6073 - val_loss: 0.4030 - val_accuracy: 0.7613\n",
      "\n",
      "Epoch 00001: val_loss improved from inf to 0.40304, saving model to ./model\\plant.model\n",
      "INFO:tensorflow:Assets written to: ./model\\plant.model\\assets\n",
      "Epoch 2/100\n",
      "53/53 [==============================] - 55s 1s/step - loss: 0.3777 - accuracy: 0.8269 - val_loss: 0.2150 - val_accuracy: 0.9176\n",
      "\n",
      "Epoch 00002: val_loss improved from 0.40304 to 0.21496, saving model to ./model\\plant.model\n",
      "INFO:tensorflow:Assets written to: ./model\\plant.model\\assets\n",
      "Epoch 3/100\n",
      "53/53 [==============================] - 52s 987ms/step - loss: 0.1804 - accuracy: 0.9275 - val_loss: 0.0842 - val_accuracy: 0.9748\n",
      "\n",
      "Epoch 00003: val_loss improved from 0.21496 to 0.08418, saving model to ./model\\plant.model\n",
      "INFO:tensorflow:Assets written to: ./model\\plant.model\\assets\n",
      "Epoch 4/100\n",
      "53/53 [==============================] - 55s 1s/step - loss: 0.1026 - accuracy: 0.9625 - val_loss: 0.0780 - val_accuracy: 0.9731\n",
      "\n",
      "Epoch 00004: val_loss improved from 0.08418 to 0.07800, saving model to ./model\\plant.model\n",
      "INFO:tensorflow:Assets written to: ./model\\plant.model\\assets\n",
      "Epoch 5/100\n",
      "53/53 [==============================] - 53s 999ms/step - loss: 0.0877 - accuracy: 0.9643 - val_loss: 0.0254 - val_accuracy: 0.9950\n",
      "\n",
      "Epoch 00005: val_loss improved from 0.07800 to 0.02535, saving model to ./model\\plant.model\n",
      "INFO:tensorflow:Assets written to: ./model\\plant.model\\assets\n",
      "Epoch 6/100\n",
      "53/53 [==============================] - 53s 1s/step - loss: 0.0577 - accuracy: 0.9814 - val_loss: 0.1064 - val_accuracy: 0.9630\n",
      "\n",
      "Epoch 00006: val_loss did not improve from 0.02535\n",
      "Epoch 7/100\n",
      "53/53 [==============================] - 66s 1s/step - loss: 0.1425 - accuracy: 0.9475 - val_loss: 0.0220 - val_accuracy: 0.9950\n",
      "\n",
      "Epoch 00007: val_loss improved from 0.02535 to 0.02201, saving model to ./model\\plant.model\n",
      "INFO:tensorflow:Assets written to: ./model\\plant.model\\assets\n",
      "Epoch 8/100\n",
      "53/53 [==============================] - 59s 1s/step - loss: 0.0424 - accuracy: 0.9868 - val_loss: 0.0231 - val_accuracy: 0.9950\n",
      "\n",
      "Epoch 00008: val_loss did not improve from 0.02201\n",
      "Epoch 9/100\n",
      "53/53 [==============================] - 62s 1s/step - loss: 0.0347 - accuracy: 0.9915 - val_loss: 0.0162 - val_accuracy: 0.9950\n",
      "\n",
      "Epoch 00009: val_loss improved from 0.02201 to 0.01623, saving model to ./model\\plant.model\n",
      "INFO:tensorflow:Assets written to: ./model\\plant.model\\assets\n",
      "Epoch 10/100\n",
      "53/53 [==============================] - 56s 1s/step - loss: 0.0199 - accuracy: 0.9945 - val_loss: 0.0121 - val_accuracy: 0.9950\n",
      "\n",
      "Epoch 00010: val_loss improved from 0.01623 to 0.01212, saving model to ./model\\plant.model\n",
      "INFO:tensorflow:Assets written to: ./model\\plant.model\\assets\n",
      "Epoch 11/100\n",
      "53/53 [==============================] - 55s 1s/step - loss: 0.0354 - accuracy: 0.9916 - val_loss: 0.0166 - val_accuracy: 0.9916\n",
      "\n",
      "Epoch 00011: val_loss did not improve from 0.01212\n",
      "Epoch 12/100\n",
      "53/53 [==============================] - 57s 1s/step - loss: 0.0282 - accuracy: 0.9896 - val_loss: 0.0146 - val_accuracy: 0.9950\n",
      "\n",
      "Epoch 00012: val_loss did not improve from 0.01212\n",
      "Epoch 13/100\n",
      "53/53 [==============================] - 57s 1s/step - loss: 0.0495 - accuracy: 0.9805 - val_loss: 0.0078 - val_accuracy: 0.9966\n",
      "\n",
      "Epoch 00013: val_loss improved from 0.01212 to 0.00775, saving model to ./model\\plant.model\n",
      "INFO:tensorflow:Assets written to: ./model\\plant.model\\assets\n",
      "Epoch 14/100\n",
      "53/53 [==============================] - 58s 1s/step - loss: 0.0124 - accuracy: 0.9962 - val_loss: 0.0096 - val_accuracy: 0.9966\n",
      "\n",
      "Epoch 00014: val_loss did not improve from 0.00775\n",
      "Epoch 15/100\n",
      "53/53 [==============================] - 58s 1s/step - loss: 0.0082 - accuracy: 0.9972 - val_loss: 0.0078 - val_accuracy: 0.9983\n",
      "\n",
      "Epoch 00015: val_loss did not improve from 0.00775\n",
      "Epoch 16/100\n",
      "53/53 [==============================] - 58s 1s/step - loss: 0.0101 - accuracy: 0.9962 - val_loss: 0.0079 - val_accuracy: 0.9966\n",
      "\n",
      "Epoch 00016: val_loss did not improve from 0.00775\n",
      "Epoch 17/100\n",
      "53/53 [==============================] - 61s 1s/step - loss: 0.0143 - accuracy: 0.9960 - val_loss: 0.0076 - val_accuracy: 0.9950\n",
      "\n",
      "Epoch 00017: val_loss improved from 0.00775 to 0.00762, saving model to ./model\\plant.model\n",
      "INFO:tensorflow:Assets written to: ./model\\plant.model\\assets\n",
      "Epoch 18/100\n",
      "53/53 [==============================] - 63s 1s/step - loss: 0.0209 - accuracy: 0.9912 - val_loss: 0.0044 - val_accuracy: 1.0000\n",
      "\n",
      "Epoch 00018: val_loss improved from 0.00762 to 0.00445, saving model to ./model\\plant.model\n",
      "INFO:tensorflow:Assets written to: ./model\\plant.model\\assets\n",
      "Epoch 19/100\n",
      "53/53 [==============================] - 62s 1s/step - loss: 0.0062 - accuracy: 0.9987 - val_loss: 5.0632e-04 - val_accuracy: 1.0000\n",
      "\n",
      "Epoch 00019: val_loss improved from 0.00445 to 0.00051, saving model to ./model\\plant.model\n",
      "INFO:tensorflow:Assets written to: ./model\\plant.model\\assets\n",
      "Epoch 20/100\n",
      "53/53 [==============================] - 60s 1s/step - loss: 0.0024 - accuracy: 0.9993 - val_loss: 0.0021 - val_accuracy: 0.9983\n",
      "\n",
      "Epoch 00020: val_loss did not improve from 0.00051\n",
      "Epoch 21/100\n",
      "53/53 [==============================] - 57s 1s/step - loss: 4.8637e-04 - accuracy: 1.0000 - val_loss: 0.0017 - val_accuracy: 0.9983\n",
      "\n",
      "Epoch 00021: val_loss did not improve from 0.00051\n",
      "Epoch 22/100\n",
      "53/53 [==============================] - 56s 1s/step - loss: 7.4641e-04 - accuracy: 0.9998 - val_loss: 0.0137 - val_accuracy: 0.9950\n",
      "\n",
      "Epoch 00022: val_loss did not improve from 0.00051\n",
      "Epoch 23/100\n",
      "53/53 [==============================] - 65s 1s/step - loss: 0.0131 - accuracy: 0.9958 - val_loss: 0.0021 - val_accuracy: 0.9983\n",
      "\n",
      "Epoch 00023: val_loss did not improve from 0.00051\n",
      "Epoch 24/100\n",
      "53/53 [==============================] - 67s 1s/step - loss: 0.0050 - accuracy: 0.9977 - val_loss: 0.0068 - val_accuracy: 0.9966\n",
      "\n",
      "Epoch 00024: val_loss did not improve from 0.00051\n",
      "Epoch 25/100\n",
      "53/53 [==============================] - 61s 1s/step - loss: 0.0125 - accuracy: 0.9954 - val_loss: 0.0043 - val_accuracy: 0.9983\n",
      "\n",
      "Epoch 00025: val_loss did not improve from 0.00051\n",
      "Epoch 26/100\n",
      "53/53 [==============================] - 60s 1s/step - loss: 0.0059 - accuracy: 0.9977 - val_loss: 0.0028 - val_accuracy: 0.9983\n",
      "\n",
      "Epoch 00026: val_loss did not improve from 0.00051\n"
     ]
    }
   ],
   "source": [
    "history = model.fit(X_train, y_train, batch_size=64, epochs=100, validation_split=0.15, callbacks=[checkpoint, early_stopping])"
   ]
  },
  {
   "cell_type": "code",
   "execution_count": 24,
   "metadata": {},
   "outputs": [
    {
     "name": "stdout",
     "output_type": "stream",
     "text": [
      "14/14 [==============================] - 2s 111ms/step - loss: 0.0019 - accuracy: 1.0000\n",
      "정확도 : 1.00 \n"
     ]
    }
   ],
   "source": [
    "print(\"정확도 : %.2f \" %(model.evaluate(X_test, y_test)[1]))"
   ]
  },
  {
   "cell_type": "code",
   "execution_count": 17,
   "metadata": {
    "scrolled": true
   },
   "outputs": [
    {
     "data": {
      "image/png": "[encoded data removed]",
      "text/plain": [
       "<Figure size 432x288 with 1 Axes>"
      ]
     },
     "metadata": {
      "needs_background": "light"
     },
     "output_type": "display_data"
    }
   ],
   "source": [
    "plt.plot(history.history['loss'])\n",
    "plt.plot(history.history['val_loss'])\n",
    "plt.plot(history.history['accuracy'])\n",
    "plt.plot(history.history['val_accuracy'])\n",
    "plt.title('model loss')\n",
    "plt.ylabel('loss')\n",
    "plt.xlabel('epoch')\n",
    "plt.legend(['loss', 'val_loss', 'acc', 'val_acc'], loc='upper left')\n",
    "plt.show()"
   ]
  },
  {
   "cell_type": "code",
   "execution_count": 25,
   "metadata": {},
   "outputs": [
    {
     "data": {
      "image/png": "[encoded data removed]",
      "text/plain": [
       "<Figure size 432x288 with 1 Axes>"
      ]
     },
     "metadata": {
      "needs_background": "light"
     },
     "output_type": "display_data"
    }
   ],
   "source": [
    "plt.plot(history.history['accuracy'])\n",
    "plt.plot(history.history['val_accuracy'])\n",
    "plt.title('model accuracy')\n",
    "plt.ylabel('accuracy')\n",
    "plt.xlabel('epoch')\n",
    "plt.legend(['acc', 'val_acc'], loc='upper left')\n",
    "plt.show()"
   ]
  },
  {
   "cell_type": "code",
   "execution_count": 26,
   "metadata": {},
   "outputs": [
    {
     "data": {
      "image/png": "[encoded data removed]",
      "text/plain": [
       "<Figure size 432x288 with 1 Axes>"
      ]
     },
     "metadata": {
      "needs_background": "light"
     },
     "output_type": "display_data"
    }
   ],
   "source": [
    "plt.plot(history.history['loss'])\n",
    "plt.plot(history.history['val_loss'])\n",
    "plt.title('model loss')\n",
    "plt.ylabel('loss')\n",
    "plt.xlabel('epoch')\n",
    "plt.legend(['loss', 'val_loss'], loc='upper left')\n",
    "plt.show()"
   ]
  },
  {
   "cell_type": "code",
   "execution_count": 29,
   "metadata": {},
   "outputs": [
    {
     "name": "stdout",
     "output_type": "stream",
     "text": [
      "WARNING:tensorflow:6 out of the last 6 calls to <function Model.make_predict_function.<locals>.predict_function at 0x0000020BCF1805E0> triggered tf.function retracing. Tracing is expensive and the excessive number of tracings could be due to (1) creating @tf.function repeatedly in a loop, (2) passing tensors with different shapes, (3) passing Python objects instead of tensors. For (1), please define your @tf.function outside of the loop. For (2), @tf.function has experimental_relax_shapes=True option that relaxes argument shapes that can avoid unnecessary retracing. For (3), please refer to https://www.tensorflow.org/guide/function#controlling_retracing and https://www.tensorflow.org/api_docs/python/tf/function for  more details.\n",
      "0Tomato_healthy (43).JPG 이미지는 정상입니다.\n",
      "0Tomato_healthy (44).JPG 이미지는 정상입니다.\n",
      "0Tomato_healthy (45).JPG 이미지는 정상입니다.\n",
      "0Tomato_healthy (46).JPG 이미지는 정상입니다.\n",
      "0Tomato_healthy (47).JPG 이미지는 정상입니다.\n",
      "0Tomato_healthy (48).JPG 이미지는 정상입니다.\n",
      "0Tomato_healthy (49).JPG 이미지는 정상입니다.\n",
      "0Tomato_healthy (50).JPG 이미지는 정상입니다.\n",
      "0Tomato_healthy (51).JPG 이미지는 정상입니다.\n",
      "0Tomato_healthy (52).JPG 이미지는 정상입니다.\n",
      "0Tomato_healthy (68).JPG 이미지는 정상입니다.\n",
      "0Tomato_healthy (69).JPG 이미지는 정상입니다.\n",
      "0Tomato_healthy (70).JPG 이미지는 정상입니다.\n",
      "0Tomato_healthy (71).JPG 이미지는 정상입니다.\n",
      "0Tomato_healthy (72).JPG 이미지는 정상입니다.\n",
      "1CornCommonRust1.JPG 이미지는 정상입니다.\n",
      "1CornCommonRust2.JPG 이미지는 정상입니다.\n",
      "1CornCommonRust3.JPG 이미지는 식물병입니다.\n",
      "1PotatoEarlyBlight1.JPG 이미지는 정상입니다.\n",
      "1PotatoEarlyBlight2.JPG 이미지는 정상입니다.\n",
      "1PotatoEarlyBlight3.JPG 이미지는 식물병입니다.\n",
      "1PotatoEarlyBlight4.JPG 이미지는 식물병입니다.\n",
      "1PotatoEarlyBlight5.JPG 이미지는 정상입니다.\n",
      "1TomatoEarlyBlight2.JPG 이미지는 식물병입니다.\n",
      "1TomatoEarlyBlight3.JPG 이미지는 식물병입니다.\n"
     ]
    }
   ],
   "source": [
    "from PIL import Image\n",
    "import os, glob, numpy as np\n",
    "from keras.models import load_model\n",
    "\n",
    "import tensorflow.compat.v1 as tf\n",
    "\n",
    "seed = 5\n",
    "tf.set_random_seed(seed)\n",
    "np.random.seed(seed)\n",
    "\n",
    "caltech_dir = './data3/test'\n",
    "\n",
    "\n",
    "image_w = 128\n",
    "image_h = 128\n",
    "\n",
    "pixels = image_h * image_w * 3\n",
    "\n",
    "X = []\n",
    "filenames = []\n",
    "files = glob.glob(caltech_dir+\"/*/*.*\")\n",
    "\n",
    "for i, f in enumerate(files):\n",
    "    img = Image.open(f)\n",
    "    img = img.convert(\"RGB\")\n",
    "    img = img.resize((image_w, image_h))\n",
    "    data = np.asarray(img)\n",
    "\n",
    "    filenames.append(f)\n",
    "    X.append(data)\n",
    "\n",
    "\n",
    "X = np.array(X)\n",
    "X = X.astype(float) / 255\n",
    "model = load_model('./model/plant.model')\n",
    "\n",
    "prediction = model.predict(X)\n",
    "np.set_printoptions(formatter={'float': lambda x: \"{0:0.3f}\".format(x)})\n",
    "cnt = 0\n",
    "for i in prediction:\n",
    "    if i >= 0.5: print(filenames[cnt].split(\"\\\\\")[1] + filenames[cnt].split(\"\\\\\")[2] + \" 이미지는 식물병입니다.\")\n",
    "    else : print(filenames[cnt].split(\"\\\\\")[1] + filenames[cnt].split(\"\\\\\")[2] + \" 이미지는 정상입니다.\")\n",
    "    cnt += 1"
   ]
  }
 ],
 "metadata": {
  "kernelspec": {
   "display_name": "Python 3",
   "language": "python",
   "name": "python3"
  },
  "language_info": {
   "codemirror_mode": {
    "name": "ipython",
    "version": 3
   },
   "file_extension": ".py",
   "mimetype": "text/x-python",
   "name": "python",
   "nbconvert_exporter": "python",
   "pygments_lexer": "ipython3",
   "version": "3.8.8"
  }
 },
 "nbformat": 4,
 "nbformat_minor": 2
}
